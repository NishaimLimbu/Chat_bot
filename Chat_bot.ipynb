{
 "cells": [
  {
   "cell_type": "code",
   "execution_count": null,
   "id": "3aed7e40",
   "metadata": {},
   "outputs": [],
   "source": [
    "# Chat-bot code \n",
    "def chatbot():\n",
    "    print('Jarvis: Hi! Welcome to BLIGHT Customer Support. I am Jarvis. How can I assist you today?')\n",
    "    \n",
    "    while True:\n",
    "        user_input = input(\"You: \").lower()\n",
    "\n",
    "        if any(greet in user_input for greet in ['hi', 'hello', 'hey']):\n",
    "            print(\"Jarvis: Hello again! How can I assist you?\")\n",
    "        \n",
    "        elif \"help\" in user_input or \"support\" in user_input:\n",
    "            print(\"Jarvis: Sure! I can help you with:\\n - Billing issues\\n - Order status\\n - Refunds and exchanges\\n - Technical issues\\n - Canceling orders\\n - Contact info\")\n",
    "        \n",
    "        elif \"how to place order\" in user_input or \"place order\" in user_input:\n",
    "            print(\"Jarvis: To place an order:\\n 1. Browse your desired product\\n 2. Click 'Add to cart'\\n 3. Go to cart and click 'Checkout'\\n 4. Fill in your details and confirm payment.\")\n",
    "        \n",
    "        elif \"refund\" in user_input or \"exchange\" in user_input:\n",
    "            print(\"Jarvis: For refunds or exchanges, contact us within 5 days of delivery. Ensure the product is unused and in original packaging.\")\n",
    "        \n",
    "        elif \"cancel order\" in user_input or \"cancel\" in user_input:\n",
    "            print(\"Jarvis: To cancel your order:\\n 1. Go to the 'My Orders' section\\n 2. Select the product\\n 3. Click on 'Cancel Order'\\n 4. Provide a reason for cancellation\")\n",
    "        \n",
    "        elif \"cod\" in user_input or \"cash on delivery\" in user_input:\n",
    "            print(\"Jarvis: Yes! Some products offer Cash On Delivery. Please check the product page under 'Payment Options' to confirm.\")\n",
    "        \n",
    "        elif \"damaged\" in user_input or \"broken\" in user_input:\n",
    "            print(\"Jarvis: Sorry to hear that! If you received a damaged item, please email us at support@blight.com or call +977-9801111111 within 24 hours.\")\n",
    "        \n",
    "        elif \"delay\" in user_input or \"late\" in user_input or \"not delivered\" in user_input:\n",
    "            print(\"Jarvis: Due to unforeseen issues, your order may be delayed. You can track it from the 'My Orders' section or contact support.\")\n",
    "        \n",
    "        elif \"contact\" in user_input or \"phone\" in user_input or \"email\" in user_input:\n",
    "            print(\"Jarvis: You can reach us via:\\n - Email: support@blight.com\\n - Phone: +977-9801111111\\n - Chat: Available 24/7 on our website\")\n",
    "        \n",
    "        elif \"technical issue\" in user_input or \"problem\" in user_input or \"error\" in user_input:\n",
    "            print(\"Jarvis: Please describe the technical issue in detail. I’ll try to help or forward it to our tech team.\")\n",
    "        \n",
    "        elif \"warranty\" in user_input:\n",
    "            print(\"Jarvis: Most electronics come with a 1-year manufacturer warranty. Check your product's warranty info in its detail page or invoice.\")\n",
    "        \n",
    "        elif \"track\" in user_input or \"where is my order\" in user_input:\n",
    "            print(\"Jarvis: You can track your order from the 'My Orders' section after logging into your account.\")\n",
    "        \n",
    "        elif \"payment failed\" in user_input or \"transaction failed\" in user_input:\n",
    "            print(\"Jarvis: If your payment failed but the amount was deducted, it will be refunded within 5–7 business days. Contact your bank for further help.\")\n",
    "        \n",
    "        elif \"bye\" in user_input or \"exit\" in user_input or \"quit\" in user_input:\n",
    "            print(\"Jarvis: Thank you for contacting BLIGHT Support. Have a great day!\")\n",
    "            break\n",
    "        \n",
    "        else:\n",
    "            print(\"Jarvis: I'm sorry, I didn’t understand that. Could you rephrase your question?\")\n"
   ]
  },
  {
   "cell_type": "code",
   "execution_count": null,
   "id": "a080f24a",
   "metadata": {},
   "outputs": [],
   "source": [
    "#chat-bot run\n",
    "chatbot()"
   ]
  }
 ],
 "metadata": {
  "kernelspec": {
   "display_name": "base",
   "language": "python",
   "name": "python3"
  },
  "language_info": {
   "codemirror_mode": {
    "name": "ipython",
    "version": 3
   },
   "file_extension": ".py",
   "mimetype": "text/x-python",
   "name": "python",
   "nbconvert_exporter": "python",
   "pygments_lexer": "ipython3",
   "version": "3.13.5"
  }
 },
 "nbformat": 4,
 "nbformat_minor": 5
}
